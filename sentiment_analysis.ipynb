{
 "cells": [
  {
   "cell_type": "code",
   "execution_count": 1,
   "id": "eb88f9dd-03f9-4a1a-9af9-4256da9ba0cb",
   "metadata": {},
   "outputs": [],
   "source": [
    "import pandas as pd\n",
    "books = pd.read_csv('books_with_categories.csv')"
   ]
  },
  {
   "cell_type": "code",
   "execution_count": 10,
   "id": "0f534b50-1754-4c2a-a16b-f8e7fe52821c",
   "metadata": {},
   "outputs": [
    {
     "name": "stderr",
     "output_type": "stream",
     "text": [
      "Device set to use cpu\n"
     ]
    },
    {
     "data": {
      "text/plain": [
       "[[{'label': 'fear', 'score': 0.9889454245567322},\n",
       "  {'label': 'neutral', 'score': 0.0036433173809200525},\n",
       "  {'label': 'sadness', 'score': 0.002623705193400383},\n",
       "  {'label': 'surprise', 'score': 0.0015594592550769448},\n",
       "  {'label': 'anger', 'score': 0.0014993511140346527},\n",
       "  {'label': 'joy', 'score': 0.0009505611378699541},\n",
       "  {'label': 'disgust', 'score': 0.0007782159373164177}]]"
      ]
     },
     "execution_count": 10,
     "metadata": {},
     "output_type": "execute_result"
    }
   ],
   "source": [
    "from transformers import  pipeline\n",
    "classifier = pipeline('text-classification', model = 'j-hartmann/emotion-english-distilroberta-base', top_k =None)\n",
    "classifier('I fear this')"
   ]
  },
  {
   "cell_type": "code",
   "execution_count": 4,
   "id": "88d6cf2b-ebe6-4eef-8837-627229292852",
   "metadata": {},
   "outputs": [
    {
     "data": {
      "text/plain": [
       "'A NOVEL THAT READERS and critics have been eagerly anticipating for over a decade, Gilead is an astonishingly imagined story of remarkable lives. John Ames is a preacher, the son of a preacher and the grandson (both maternal and paternal) of preachers. It’s 1956 in Gilead, Iowa, towards the end of the Reverend Ames’s life, and he is absorbed in recording his family’s story, a legacy for the young son he will never see grow up. Haunted by his grandfather’s presence, John tells of the rift between his grandfather and his father: the elder, an angry visionary who fought for the abolitionist cause, and his son, an ardent pacifist. He is troubled, too, by his prodigal namesake, Jack (John Ames) Boughton, his best friend’s lost son who returns to Gilead searching for forgiveness and redemption. Told in John Ames’s joyous, rambling voice that finds beauty, humour and truth in the smallest of life’s details, Gilead is a song of celebration and acceptance of the best and the worst the world has to offer. At its heart is a tale of the sacred bonds between fathers and sons, pitch-perfect in style and story, set to dazzle critics and readers alike.'"
      ]
     },
     "execution_count": 4,
     "metadata": {},
     "output_type": "execute_result"
    }
   ],
   "source": [
    "books['description'][0]"
   ]
  },
  {
   "cell_type": "code",
   "execution_count": 12,
   "id": "fc5fde6d-0937-47a8-b5b3-c69691ebf503",
   "metadata": {},
   "outputs": [
    {
     "data": {
      "text/plain": [
       "[[{'label': 'fear', 'score': 0.6548399925231934},\n",
       "  {'label': 'neutral', 'score': 0.1698525995016098},\n",
       "  {'label': 'sadness', 'score': 0.11640939861536026},\n",
       "  {'label': 'surprise', 'score': 0.02070068009197712},\n",
       "  {'label': 'disgust', 'score': 0.019100721925497055},\n",
       "  {'label': 'joy', 'score': 0.015161462128162384},\n",
       "  {'label': 'anger', 'score': 0.003935154061764479}]]"
      ]
     },
     "execution_count": 12,
     "metadata": {},
     "output_type": "execute_result"
    }
   ],
   "source": [
    "classifier(books['description'][0])"
   ]
  },
  {
   "cell_type": "code",
   "execution_count": 11,
   "id": "3e6a86ba-611f-440e-acb1-ff96ab3deeef",
   "metadata": {},
   "outputs": [
    {
     "data": {
      "text/plain": [
       "[[{'label': 'surprise', 'score': 0.729602038860321},\n",
       "  {'label': 'neutral', 'score': 0.14038607478141785},\n",
       "  {'label': 'fear', 'score': 0.06816229224205017},\n",
       "  {'label': 'joy', 'score': 0.04794258251786232},\n",
       "  {'label': 'anger', 'score': 0.009156374260783195},\n",
       "  {'label': 'disgust', 'score': 0.002628477755934},\n",
       "  {'label': 'sadness', 'score': 0.0021221644710749388}],\n",
       " [{'label': 'neutral', 'score': 0.44937077164649963},\n",
       "  {'label': 'disgust', 'score': 0.27359139919281006},\n",
       "  {'label': 'joy', 'score': 0.10908306390047073},\n",
       "  {'label': 'sadness', 'score': 0.09362738579511642},\n",
       "  {'label': 'anger', 'score': 0.040478240698575974},\n",
       "  {'label': 'surprise', 'score': 0.02697017788887024},\n",
       "  {'label': 'fear', 'score': 0.0068790484219789505}],\n",
       " [{'label': 'neutral', 'score': 0.6462157964706421},\n",
       "  {'label': 'sadness', 'score': 0.24273352324962616},\n",
       "  {'label': 'disgust', 'score': 0.04342266544699669},\n",
       "  {'label': 'surprise', 'score': 0.028300534933805466},\n",
       "  {'label': 'joy', 'score': 0.014211485162377357},\n",
       "  {'label': 'fear', 'score': 0.014084087684750557},\n",
       "  {'label': 'anger', 'score': 0.011031894013285637}],\n",
       " [{'label': 'fear', 'score': 0.9281681180000305},\n",
       "  {'label': 'anger', 'score': 0.03219093754887581},\n",
       "  {'label': 'neutral', 'score': 0.01280868798494339},\n",
       "  {'label': 'sadness', 'score': 0.008756876923143864},\n",
       "  {'label': 'surprise', 'score': 0.008597906678915024},\n",
       "  {'label': 'disgust', 'score': 0.008431830443441868},\n",
       "  {'label': 'joy', 'score': 0.0010455821175128222}],\n",
       " [{'label': 'sadness', 'score': 0.9671575427055359},\n",
       "  {'label': 'neutral', 'score': 0.015104157850146294},\n",
       "  {'label': 'disgust', 'score': 0.006480599287897348},\n",
       "  {'label': 'fear', 'score': 0.005393992643803358},\n",
       "  {'label': 'surprise', 'score': 0.0022869419772177935},\n",
       "  {'label': 'anger', 'score': 0.0018428912153467536},\n",
       "  {'label': 'joy', 'score': 0.0017338789766654372}],\n",
       " [{'label': 'joy', 'score': 0.9327982664108276},\n",
       "  {'label': 'disgust', 'score': 0.03771700710058212},\n",
       "  {'label': 'neutral', 'score': 0.015891820192337036},\n",
       "  {'label': 'sadness', 'score': 0.006444503553211689},\n",
       "  {'label': 'anger', 'score': 0.005024963989853859},\n",
       "  {'label': 'surprise', 'score': 0.0015812061028555036},\n",
       "  {'label': 'fear', 'score': 0.0005423057591542602}],\n",
       " [{'label': 'joy', 'score': 0.6528709530830383},\n",
       "  {'label': 'neutral', 'score': 0.25427451729774475},\n",
       "  {'label': 'surprise', 'score': 0.06808296591043472},\n",
       "  {'label': 'sadness', 'score': 0.009908993728458881},\n",
       "  {'label': 'disgust', 'score': 0.006512218154966831},\n",
       "  {'label': 'anger', 'score': 0.004821305628865957},\n",
       "  {'label': 'fear', 'score': 0.0035290149971842766}],\n",
       " [{'label': 'neutral', 'score': 0.5494772791862488},\n",
       "  {'label': 'sadness', 'score': 0.11169009655714035},\n",
       "  {'label': 'disgust', 'score': 0.10400658845901489},\n",
       "  {'label': 'surprise', 'score': 0.07876544445753098},\n",
       "  {'label': 'anger', 'score': 0.06413355469703674},\n",
       "  {'label': 'fear', 'score': 0.05136274918913841},\n",
       "  {'label': 'joy', 'score': 0.040564365684986115}]]"
      ]
     },
     "execution_count": 11,
     "metadata": {},
     "output_type": "execute_result"
    }
   ],
   "source": [
    "classifier(books['description'][0].split('.'))"
   ]
  },
  {
   "cell_type": "code",
   "execution_count": 25,
   "id": "597cbb38-f7ca-43d1-9507-a3232f3b985b",
   "metadata": {},
   "outputs": [],
   "source": [
    "import numpy as np\n",
    "emotion_labels = ['anger', 'disgust','fear','joy','sadness','surprise','neutral']\n",
    "isbn = []\n",
    "emotion_scores = { label:[] for label in emotion_labels }\n",
    "\n",
    "def calculate_max_emotion_score(predictions):\n",
    "    per_emotion_scores = { label:[] for label in emotion_labels }\n",
    "    for prediction in predictions:\n",
    "        sorted_predictions = sorted(prediction, key=lambda x:x['label'])\n",
    "        for index,label in enumerate(emotion_labels):\n",
    "            per_emotion_scores[label].append(sorted_predictions[index]['score'])\n",
    "    return {label: np.max(scores) for label,scores in per_emotion_scores.items()}"
   ]
  },
  {
   "cell_type": "code",
   "execution_count": null,
   "id": "c44cda96-a74f-48f4-b8a5-66c2a44f41f1",
   "metadata": {},
   "outputs": [
    {
     "name": "stderr",
     "output_type": "stream",
     "text": [
      "  7%|█████▏                                                                         | 340/5197 [02:15<18:06,  4.47it/s]"
     ]
    }
   ],
   "source": [
    "from tqdm import tqdm\n",
    "for i in tqdm(range(len(books))):\n",
    "    isbn.append(books['isbn13'][i])\n",
    "    sentences = books['description'][i].split('.')\n",
    "    predictions = classifier(sentences)\n",
    "    max_scores = calculate_max_emotion_score(predictions)\n",
    "    for label in emotion_labels:\n",
    "        emotion_scores[label].append(max_scores[label])"
   ]
  },
  {
   "cell_type": "code",
   "execution_count": null,
   "id": "28de6038-604e-4728-bb1b-d1e7dcbc3846",
   "metadata": {},
   "outputs": [],
   "source": []
  },
  {
   "cell_type": "code",
   "execution_count": null,
   "id": "5bf6145a-063b-45b5-ab4f-97d2043f6804",
   "metadata": {},
   "outputs": [],
   "source": []
  }
 ],
 "metadata": {
  "kernelspec": {
   "display_name": "Python 3 (ipykernel)",
   "language": "python",
   "name": "python3"
  },
  "language_info": {
   "codemirror_mode": {
    "name": "ipython",
    "version": 3
   },
   "file_extension": ".py",
   "mimetype": "text/x-python",
   "name": "python",
   "nbconvert_exporter": "python",
   "pygments_lexer": "ipython3",
   "version": "3.10.11"
  }
 },
 "nbformat": 4,
 "nbformat_minor": 5
}
